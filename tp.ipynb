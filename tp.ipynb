{
 "cells": [
  {
   "cell_type": "code",
   "execution_count": 305,
   "metadata": {},
   "outputs": [],
   "source": [
    "import pandas as pd\n",
    "from numpy import random\n",
    "import numpy as np\n",
    "import math\n",
    "import matplotlib.pyplot as plt\n",
    "from scipy.stats import t\n",
    "from sklearn.linear_model import LinearRegression\n",
    "from mpl_toolkits.mplot3d import Axes3D\n",
    "# Enable inline plotting\n",
    "%matplotlib inline"
   ]
  },
  {
   "cell_type": "markdown",
   "metadata": {},
   "source": [
    "# Exercice 1. (Regression analysis of the investment data)"
   ]
  },
  {
   "cell_type": "markdown",
   "metadata": {},
   "source": [
    "## 1.1"
   ]
  },
  {
   "cell_type": "code",
   "execution_count": 8,
   "metadata": {},
   "outputs": [],
   "source": [
    "Location = r'/Users/apple/Desktop/invest.txt'\n",
    "df = pd.read_csv(Location, sep = ' ')"
   ]
  },
  {
   "cell_type": "code",
   "execution_count": 9,
   "metadata": {},
   "outputs": [
    {
     "name": "stdout",
     "output_type": "stream",
     "text": [
      "<class 'pandas.core.frame.DataFrame'>\n",
      "RangeIndex: 15 entries, 0 to 14\n",
      "Data columns (total 5 columns):\n",
      "year        15 non-null int64\n",
      "gnp         15 non-null float64\n",
      "invest      15 non-null float64\n",
      "cpi         15 non-null float64\n",
      "interest    15 non-null float64\n",
      "dtypes: float64(4), int64(1)\n",
      "memory usage: 680.0 bytes\n"
     ]
    }
   ],
   "source": [
    "df.info()"
   ]
  },
  {
   "cell_type": "code",
   "execution_count": 10,
   "metadata": {},
   "outputs": [
    {
     "data": {
      "text/html": [
       "<div>\n",
       "<style scoped>\n",
       "    .dataframe tbody tr th:only-of-type {\n",
       "        vertical-align: middle;\n",
       "    }\n",
       "\n",
       "    .dataframe tbody tr th {\n",
       "        vertical-align: top;\n",
       "    }\n",
       "\n",
       "    .dataframe thead th {\n",
       "        text-align: right;\n",
       "    }\n",
       "</style>\n",
       "<table border=\"1\" class=\"dataframe\">\n",
       "  <thead>\n",
       "    <tr style=\"text-align: right;\">\n",
       "      <th></th>\n",
       "      <th>year</th>\n",
       "      <th>gnp</th>\n",
       "      <th>invest</th>\n",
       "      <th>cpi</th>\n",
       "      <th>interest</th>\n",
       "    </tr>\n",
       "  </thead>\n",
       "  <tbody>\n",
       "    <tr>\n",
       "      <th>0</th>\n",
       "      <td>1968</td>\n",
       "      <td>873.4</td>\n",
       "      <td>133.3</td>\n",
       "      <td>82.54</td>\n",
       "      <td>5.16</td>\n",
       "    </tr>\n",
       "    <tr>\n",
       "      <th>1</th>\n",
       "      <td>1969</td>\n",
       "      <td>944.0</td>\n",
       "      <td>149.3</td>\n",
       "      <td>86.79</td>\n",
       "      <td>5.87</td>\n",
       "    </tr>\n",
       "    <tr>\n",
       "      <th>2</th>\n",
       "      <td>1970</td>\n",
       "      <td>992.7</td>\n",
       "      <td>144.2</td>\n",
       "      <td>91.45</td>\n",
       "      <td>5.95</td>\n",
       "    </tr>\n",
       "    <tr>\n",
       "      <th>3</th>\n",
       "      <td>1971</td>\n",
       "      <td>1077.6</td>\n",
       "      <td>166.4</td>\n",
       "      <td>96.01</td>\n",
       "      <td>4.88</td>\n",
       "    </tr>\n",
       "    <tr>\n",
       "      <th>4</th>\n",
       "      <td>1972</td>\n",
       "      <td>1185.9</td>\n",
       "      <td>195.0</td>\n",
       "      <td>100.00</td>\n",
       "      <td>4.50</td>\n",
       "    </tr>\n",
       "  </tbody>\n",
       "</table>\n",
       "</div>"
      ],
      "text/plain": [
       "   year     gnp  invest     cpi  interest\n",
       "0  1968   873.4   133.3   82.54      5.16\n",
       "1  1969   944.0   149.3   86.79      5.87\n",
       "2  1970   992.7   144.2   91.45      5.95\n",
       "3  1971  1077.6   166.4   96.01      4.88\n",
       "4  1972  1185.9   195.0  100.00      4.50"
      ]
     },
     "execution_count": 10,
     "metadata": {},
     "output_type": "execute_result"
    }
   ],
   "source": [
    "df.head()"
   ]
  },
  {
   "cell_type": "markdown",
   "metadata": {},
   "source": [
    "## 1.2"
   ]
  },
  {
   "cell_type": "code",
   "execution_count": 13,
   "metadata": {},
   "outputs": [
    {
     "data": {
      "text/plain": [
       "[<matplotlib.lines.Line2D at 0x113f09dd8>]"
      ]
     },
     "execution_count": 13,
     "metadata": {},
     "output_type": "execute_result"
    },
    {
     "data": {
      "image/png": "[encoded data removed]",
      "text/plain": [
       "<Figure size 432x288 with 1 Axes>"
      ]
     },
     "metadata": {
      "needs_background": "light"
     },
     "output_type": "display_data"
    }
   ],
   "source": [
    "plt.plot(df['gnp'], df['invest'], 'ro')"
   ]
  },
  {
   "cell_type": "markdown",
   "metadata": {},
   "source": [
    "## 1.3 "
   ]
  },
  {
   "cell_type": "code",
   "execution_count": 19,
   "metadata": {
    "collapsed": true
   },
   "outputs": [],
   "source": [
    "gnp = np.log(df['gnp'])\n",
    "invest = np.log(df['invest'])"
   ]
  },
  {
   "cell_type": "code",
   "execution_count": 51,
   "metadata": {},
   "outputs": [
    {
     "data": {
      "text/plain": [
       "0     6.772394\n",
       "1     6.850126\n",
       "2     6.900429\n",
       "3     6.982492\n",
       "4     7.078257\n",
       "5     7.190224\n",
       "6     7.268362\n",
       "7     7.345494\n",
       "8     7.448916\n",
       "9     7.559195\n",
       "10    7.679667\n",
       "11    7.790613\n",
       "12    7.875917\n",
       "13    7.985382\n",
       "14    8.025353\n",
       "Name: gnp, dtype: float64"
      ]
     },
     "execution_count": 51,
     "metadata": {},
     "output_type": "execute_result"
    }
   ],
   "source": [
    "gnp"
   ]
  },
  {
   "cell_type": "code",
   "execution_count": 209,
   "metadata": {},
   "outputs": [],
   "source": [
    "n = 15\n",
    "gnp_mean = np.mean(gnp)\n",
    "invest_mean = np.mean(invest)\n",
    "#b1\n",
    "slope = sum((gnp-gnp_mean)*(invest-invest_mean))/sum((gnp-gnp_mean)**2)\n",
    "#b0\n",
    "intercept = invest_mean - slope*gnp_mean\n",
    "sigma_carre = (1/(n-2))*sum((invest-(intercept+slope*gnp))**2)\n",
    "intercept_variance = sigma_carre * ((1/n)+ (gnp_mean**2)/sum((gnp-gnp_mean)**2))\n",
    "slope_variance = sigma_carre / sum((gnp-gnp_mean)**2)\n",
    "intercept_standard_deviation = math.sqrt(intercept_variance)\n",
    "slope_standard_deviation = math.sqrt(slope_variance)\n",
    "determination_coefficient = 1-sum((invest-intercept-slope*gnp)**2)/sum((invest-invest_mean)**2)"
   ]
  },
  {
   "cell_type": "code",
   "execution_count": 41,
   "metadata": {},
   "outputs": [
    {
     "data": {
      "text/plain": [
       "-1.9635913352301833"
      ]
     },
     "execution_count": 41,
     "metadata": {},
     "output_type": "execute_result"
    }
   ],
   "source": [
    "intercept"
   ]
  },
  {
   "cell_type": "code",
   "execution_count": 42,
   "metadata": {
    "scrolled": true
   },
   "outputs": [
    {
     "data": {
      "text/plain": [
       "1.015281401598871"
      ]
     },
     "execution_count": 42,
     "metadata": {},
     "output_type": "execute_result"
    }
   ],
   "source": [
    "slope"
   ]
  },
  {
   "cell_type": "code",
   "execution_count": 55,
   "metadata": {
    "scrolled": true
   },
   "outputs": [
    {
     "data": {
      "text/plain": [
       "0.4095472716623082"
      ]
     },
     "execution_count": 55,
     "metadata": {},
     "output_type": "execute_result"
    }
   ],
   "source": [
    "intercept_standard_deviation"
   ]
  },
  {
   "cell_type": "code",
   "execution_count": 56,
   "metadata": {},
   "outputs": [
    {
     "data": {
      "text/plain": [
       "0.055383060354852805"
      ]
     },
     "execution_count": 56,
     "metadata": {},
     "output_type": "execute_result"
    }
   ],
   "source": [
    "slope_standard_deviation"
   ]
  },
  {
   "cell_type": "code",
   "execution_count": 210,
   "metadata": {
    "scrolled": true
   },
   "outputs": [
    {
     "data": {
      "text/plain": [
       "0.9627572956057854"
      ]
     },
     "execution_count": 210,
     "metadata": {},
     "output_type": "execute_result"
    }
   ],
   "source": [
    "determination_coefficient"
   ]
  },
  {
   "cell_type": "markdown",
   "metadata": {},
   "source": [
    "## 1.4"
   ]
  },
  {
   "cell_type": "code",
   "execution_count": 232,
   "metadata": {},
   "outputs": [],
   "source": [
    "#test statistic\n",
    "test = slope/math.sqrt(slope_variance) "
   ]
  },
  {
   "cell_type": "code",
   "execution_count": 73,
   "metadata": {},
   "outputs": [
    {
     "data": {
      "text/plain": [
       "18.33198445686668"
      ]
     },
     "execution_count": 73,
     "metadata": {},
     "output_type": "execute_result"
    }
   ],
   "source": [
    "#test statistic\n",
    "test"
   ]
  },
  {
   "cell_type": "code",
   "execution_count": 98,
   "metadata": {},
   "outputs": [],
   "source": [
    "#p-value\n",
    "pvalue = 2*(1- t.cdf(test, df = n-2)) # we reject H0 when p<<1 (H0: b1 = 0)"
   ]
  },
  {
   "cell_type": "code",
   "execution_count": 99,
   "metadata": {},
   "outputs": [
    {
     "data": {
      "text/plain": [
       "1.1363709973011282e-10"
      ]
     },
     "execution_count": 99,
     "metadata": {},
     "output_type": "execute_result"
    }
   ],
   "source": [
    "pvalue "
   ]
  },
  {
   "cell_type": "code",
   "execution_count": 100,
   "metadata": {},
   "outputs": [],
   "source": [
    "#p-value<<1, we reject H0"
   ]
  },
  {
   "cell_type": "markdown",
   "metadata": {},
   "source": [
    "## 1.5"
   ]
  },
  {
   "cell_type": "code",
   "execution_count": 106,
   "metadata": {},
   "outputs": [],
   "source": [
    "invest1_log = intercept + np.log(1000)*slope"
   ]
  },
  {
   "cell_type": "code",
   "execution_count": 108,
   "metadata": {},
   "outputs": [
    {
     "data": {
      "text/plain": [
       "155.97942793105466"
      ]
     },
     "execution_count": 108,
     "metadata": {},
     "output_type": "execute_result"
    }
   ],
   "source": [
    "#the necessary Investment for the GNP value 1000\n",
    "invest1 = np.exp(invest1_log)\n",
    "invest1"
   ]
  },
  {
   "cell_type": "code",
   "execution_count": 123,
   "metadata": {},
   "outputs": [],
   "source": [
    "alpha = 1-0.9\n",
    "quantile = t.ppf((1-alpha/2), df = n-2)\n",
    "a = quantile * np.sqrt(sigma_carre) * np.sqrt((1/n) + ((np.log(1000)-gnp_mean)**2)/sum((gnp-gnp_mean)**2))\n",
    "b = quantile * np.sqrt(sigma_carre) * np.sqrt(1 + (1/n) +  ((np.log(1000)-gnp_mean)**2)/sum((gnp-gnp_mean)**2))"
   ]
  },
  {
   "cell_type": "code",
   "execution_count": 124,
   "metadata": {},
   "outputs": [
    {
     "name": "stdout",
     "output_type": "stream",
     "text": [
      "confidence interval: [ 146.67552673421926  ,  165.87349286827552 ]\n",
      "prediction interval: [ 132.00238933412913  ,  184.3116784508739 ]\n"
     ]
    }
   ],
   "source": [
    "CI1 = invest1_log+a\n",
    "CI2 = invest1_log-a\n",
    "print(\"confidence interval: [\", np.exp(CI2),\" , \",np.exp(CI1), \"]\")\n",
    "PI1 = invest1_log+b\n",
    "PI2 = invest1_log-b\n",
    "print(\"prediction interval: [\", np.exp(PI2),\" , \",np.exp(PI1), \"]\")"
   ]
  },
  {
   "cell_type": "markdown",
   "metadata": {},
   "source": [
    "## 1.6"
   ]
  },
  {
   "cell_type": "code",
   "execution_count": 314,
   "metadata": {},
   "outputs": [
    {
     "data": {
      "text/plain": [
       "<matplotlib.collections.PolyCollection at 0x1a176283c8>"
      ]
     },
     "execution_count": 314,
     "metadata": {},
     "output_type": "execute_result"
    },
    {
     "data": {
      "image/png": "[encoded data removed]",
      "text/plain": [
       "<Figure size 432x288 with 1 Axes>"
      ]
     },
     "metadata": {
      "needs_background": "light"
     },
     "output_type": "display_data"
    }
   ],
   "source": [
    "plt.plot(gnp, invest, 'ro')\n",
    "def f(x):\n",
    "    return intercept + x*slope\n",
    "plt.plot(gnp, f(gnp))\n",
    "plt.fill_between(gnp, f(gnp)-a, f(gnp)+a, color = \"g\", alpha = 0.3) #confidence intervals\n",
    "plt.fill_between(gnp, f(gnp)-b, f(gnp)+b, color = \"y\", alpha = 0.3) #prediction intervals"
   ]
  },
  {
   "cell_type": "markdown",
   "metadata": {},
   "source": [
    "## 1.7"
   ]
  },
  {
   "cell_type": "code",
   "execution_count": 298,
   "metadata": {},
   "outputs": [],
   "source": [
    "reg = LinearRegression().fit(gnp.values.reshape(-1,1), invest)\n",
    "intercept0 = reg.intercept_\n",
    "slope0 = reg.coef_\n",
    "determination_coefficient0 = reg.score(gnp.values.reshape(-1,1), invest)\n",
    "invest0 = reg.predict(np.log(1000))"
   ]
  },
  {
   "cell_type": "code",
   "execution_count": 299,
   "metadata": {},
   "outputs": [
    {
     "name": "stdout",
     "output_type": "stream",
     "text": [
      "the intercept is:  -1.9635913352301815 \n",
      " the slope is:  [1.0152814] \n",
      " the determination_coefficient is:  0.9627572956057855 \n",
      " the necessary In- vestment for the GNP value 1000 is:  [155.97942793]\n"
     ]
    }
   ],
   "source": [
    "print(\"the intercept is: \", intercept0, \"\\n the slope is: \", slope0, \"\\n the determination_coefficient is: \", determination_coefficient0, \n",
    "      \"\\n the necessary In- vestment for the GNP value 1000 is: \" , np.exp(invest0))"
   ]
  },
  {
   "cell_type": "markdown",
   "metadata": {},
   "source": [
    "we can see that those calculated ‘by hand’ (Steps 3 and 5) coincide with the ones obtained using existing implementation."
   ]
  },
  {
   "cell_type": "markdown",
   "metadata": {},
   "source": [
    "## 1.8 "
   ]
  },
  {
   "cell_type": "code",
   "execution_count": 158,
   "metadata": {},
   "outputs": [
    {
     "data": {
      "text/plain": [
       "[<matplotlib.lines.Line2D at 0x1a168fe2b0>]"
      ]
     },
     "execution_count": 158,
     "metadata": {},
     "output_type": "execute_result"
    },
    {
     "data": {
      "image/png": "[encoded data removed]",
      "text/plain": [
       "<Figure size 432x288 with 1 Axes>"
      ]
     },
     "metadata": {
      "needs_background": "light"
     },
     "output_type": "display_data"
    }
   ],
   "source": [
    "plt.plot(gnp, invest, 'ro')\n",
    "def f(x):\n",
    "    return intercept0 + x*slope0\n",
    "plt.plot(gnp, f(gnp))\n",
    "plt.plot(np.log(1000), invest0, 'go')"
   ]
  },
  {
   "cell_type": "markdown",
   "metadata": {},
   "source": [
    "## 1.9"
   ]
  },
  {
   "cell_type": "code",
   "execution_count": 176,
   "metadata": {},
   "outputs": [],
   "source": [
    "interest = df['interest']\n",
    "array = np.vstack((gnp.values, interest.values))\n",
    "X = np.vstack((np.array([1]*n), array)).T"
   ]
  },
  {
   "cell_type": "code",
   "execution_count": 177,
   "metadata": {},
   "outputs": [
    {
     "data": {
      "text/plain": [
       "array([[ 1.        ,  6.77239364,  5.16      ],\n",
       "       [ 1.        ,  6.85012617,  5.87      ],\n",
       "       [ 1.        ,  6.9004285 ,  5.95      ],\n",
       "       [ 1.        ,  6.98249163,  4.88      ],\n",
       "       [ 1.        ,  7.07825726,  4.5       ],\n",
       "       [ 1.        ,  7.19022378,  6.44      ],\n",
       "       [ 1.        ,  7.26836248,  7.83      ],\n",
       "       [ 1.        ,  7.34549395,  6.25      ],\n",
       "       [ 1.        ,  7.4489161 ,  5.5       ],\n",
       "       [ 1.        ,  7.55919466,  5.46      ],\n",
       "       [ 1.        ,  7.67966743,  7.46      ],\n",
       "       [ 1.        ,  7.79061331, 10.28      ],\n",
       "       [ 1.        ,  7.87591714, 11.77      ],\n",
       "       [ 1.        ,  7.98538224, 13.42      ],\n",
       "       [ 1.        ,  8.02535287, 11.02      ]])"
      ]
     },
     "execution_count": 177,
     "metadata": {},
     "output_type": "execute_result"
    }
   ],
   "source": [
    "X"
   ]
  },
  {
   "cell_type": "code",
   "execution_count": 178,
   "metadata": {},
   "outputs": [],
   "source": [
    "gram_matrix = np.dot(X.T,X)/n"
   ]
  },
  {
   "cell_type": "code",
   "execution_count": 179,
   "metadata": {},
   "outputs": [
    {
     "data": {
      "text/plain": [
       "array([[ 1.        ,  7.38352141,  7.45266667],\n",
       "       [ 7.38352141, 54.68323179, 55.94590287],\n",
       "       [ 7.45266667, 55.94590287, 62.92371333]])"
      ]
     },
     "execution_count": 179,
     "metadata": {},
     "output_type": "execute_result"
    }
   ],
   "source": [
    "gram_matrix"
   ]
  },
  {
   "cell_type": "code",
   "execution_count": 180,
   "metadata": {},
   "outputs": [
    {
     "data": {
      "text/plain": [
       "3"
      ]
     },
     "execution_count": 180,
     "metadata": {},
     "output_type": "execute_result"
    }
   ],
   "source": [
    "np.linalg.matrix_rank(gram_matrix)"
   ]
  },
  {
   "cell_type": "markdown",
   "metadata": {},
   "source": [
    "the rank of gram matrix is 3, which means that it is full rank "
   ]
  },
  {
   "cell_type": "markdown",
   "metadata": {},
   "source": [
    "## 1.10 "
   ]
  },
  {
   "cell_type": "code",
   "execution_count": 214,
   "metadata": {
    "scrolled": true
   },
   "outputs": [],
   "source": [
    "p = 2\n",
    "regression_coefficients = np.dot(np.dot(np.linalg.inv(np.dot(X.T,X)), X.T), invest)\n",
    "sigma_carre1 = (1/(n-(p+1)))*sum((invest-(np.dot(X, regression_coefficients.T)))**2)\n",
    "C = np.linalg.inv(np.dot(X.T,X))*sigma_carre1 \n",
    "determination_coefficient1 = 1-sum((invest-(np.dot(X, regression_coefficients.T)))**2)/sum((invest-invest_mean)**2)\n",
    "beta0 = regression_coefficients[0]\n",
    "beta1 = regression_coefficients[1]\n",
    "beta2 = regression_coefficients[2]"
   ]
  },
  {
   "cell_type": "code",
   "execution_count": 188,
   "metadata": {},
   "outputs": [
    {
     "data": {
      "text/plain": [
       "array([-2.18045473,  1.05124269, -0.00652888])"
      ]
     },
     "execution_count": 188,
     "metadata": {},
     "output_type": "execute_result"
    }
   ],
   "source": [
    "regression_coefficients"
   ]
  },
  {
   "cell_type": "code",
   "execution_count": 201,
   "metadata": {
    "scrolled": true
   },
   "outputs": [
    {
     "data": {
      "text/plain": [
       "array([[ 4.38772697e-01, -6.72457405e-02,  7.82053357e-03],\n",
       "       [-6.72457405e-02,  1.04165249e-02, -1.29683702e-03],\n",
       "       [ 7.82053357e-03, -1.29683702e-03,  2.35444629e-04]])"
      ]
     },
     "execution_count": 201,
     "metadata": {},
     "output_type": "execute_result"
    }
   ],
   "source": [
    "C"
   ]
  },
  {
   "cell_type": "code",
   "execution_count": 212,
   "metadata": {},
   "outputs": [
    {
     "data": {
      "text/plain": [
       "0.9633108306726244"
      ]
     },
     "execution_count": 212,
     "metadata": {},
     "output_type": "execute_result"
    }
   ],
   "source": [
    "determination_coefficient1"
   ]
  },
  {
   "cell_type": "code",
   "execution_count": 213,
   "metadata": {
    "scrolled": false
   },
   "outputs": [
    {
     "name": "stdout",
     "output_type": "stream",
     "text": [
      "the three regression co- efficients: \n",
      " beta0 =  -2.1804547259122575 \n",
      " beta1 =  1.0512426913198811 \n",
      " beta2 =  -0.006528879406102708\n",
      "the standard deviations: \n",
      " for beta0:  0.6623991977963694 \n",
      " for beta1:  0.10206137806192317 \n",
      " for beta2:  0.015344205065604207\n",
      "the determination coefficient: \n",
      "  0.9633108306726244\n"
     ]
    }
   ],
   "source": [
    "print(\"the three regression co- efficients: \\n beta0 = \",regression_coefficients[0], \"\\n beta1 = \", regression_coefficients[1],  \"\\n beta2 = \", regression_coefficients[2])\n",
    "print(\"the standard deviations: \\n for beta0: \", math.sqrt(C[0][0]), \"\\n for beta1: \", math.sqrt(C[1][1]), \"\\n for beta2: \", math.sqrt(C[2][2]))\n",
    "print(\"the determination coefficient: \\n \", determination_coefficient1)"
   ]
  },
  {
   "cell_type": "code",
   "execution_count": 366,
   "metadata": {},
   "outputs": [],
   "source": [
    "test_significant0 = beta0/math.sqrt(C[0][0]) \n",
    "test_significant1 = beta1/math.sqrt(C[1][1]) \n",
    "test_significant2 = beta2/math.sqrt(C[2][2]) \n",
    "pvalue0 = 2*min((1- t.cdf(test_significant0, df = n-(p+1))), t.cdf(test_significant0, df = n-(p+1)))\n",
    "pvalue1 = 2*min((1- t.cdf(test_significant1, df = n-(p+1))), t.cdf(test_significant1, df = n-(p+1)))\n",
    "pvalue2 = 2*min((1- t.cdf(test_significant2, df = n-(p+1))), t.cdf(test_significant2, df = n-(p+1)))"
   ]
  },
  {
   "cell_type": "code",
   "execution_count": 367,
   "metadata": {
    "scrolled": true
   },
   "outputs": [
    {
     "name": "stdout",
     "output_type": "stream",
     "text": [
      "p-value of the first coefficient beta0:  0.006438367050919603\n",
      "p-value of the second coefficient beta1:  2.5995168484449493e-07\n",
      "p-value of the third coefficient beta2:  0.6780071418822776\n"
     ]
    }
   ],
   "source": [
    "print(\"p-value of the first coefficient beta0: \", pvalue0)\n",
    "print(\"p-value of the second coefficient beta1: \", pvalue1)\n",
    "print(\"p-value of the third coefficient beta2: \", pvalue2)"
   ]
  },
  {
   "cell_type": "markdown",
   "metadata": {},
   "source": [
    "We can see that the second coefficient is the most important.\n",
    "p-value is given by 2min(P(X<=x|H), P(X>=x|H))"
   ]
  },
  {
   "cell_type": "markdown",
   "metadata": {},
   "source": [
    "## 1.11"
   ]
  },
  {
   "cell_type": "code",
   "execution_count": 243,
   "metadata": {},
   "outputs": [],
   "source": [
    "investment_log = beta0 + beta1* np.log(1000) + beta2*10"
   ]
  },
  {
   "cell_type": "code",
   "execution_count": 356,
   "metadata": {},
   "outputs": [
    {
     "data": {
      "text/plain": [
       "5.015983730483013"
      ]
     },
     "execution_count": 356,
     "metadata": {},
     "output_type": "execute_result"
    }
   ],
   "source": [
    "investment_log"
   ]
  },
  {
   "cell_type": "code",
   "execution_count": 247,
   "metadata": {},
   "outputs": [],
   "source": [
    "alpha1 = 1-0.999\n",
    "quantile1 = t.ppf((1-alpha1/2), df = n-(p+1))"
   ]
  },
  {
   "cell_type": "code",
   "execution_count": 368,
   "metadata": {},
   "outputs": [],
   "source": [
    "x = np.array([1, np.log(1000), 10])\n",
    "a1 = quantile1*math.sqrt(sigma_carre1 * np.dot(np.dot(x , np.linalg.inv(np.dot(X.T,X))), x.T))\n",
    "b1 = quantile1*math.sqrt(sigma_carre1 * (1 + np.dot(np.dot(x ,np.linalg.inv(np.dot(X.T,X))), x.T)))"
   ]
  },
  {
   "cell_type": "code",
   "execution_count": 370,
   "metadata": {},
   "outputs": [
    {
     "name": "stdout",
     "output_type": "stream",
     "text": [
      "confidence interval: [ 4.64018403668841  ,  5.391783424277616 ]\n",
      "prediction interval: [ 4.473803343640594  ,  5.558164117325432 ]\n"
     ]
    }
   ],
   "source": [
    "CI3 = investment_log + a1\n",
    "CI4 = investment_log - a1\n",
    "PI3 = investment_log + b1\n",
    "PI4 = investment_log - b1\n",
    "print(\"confidence interval: [\", CI4,\" , \", CI3, \"]\")\n",
    "print(\"prediction interval: [\", PI4,\" , \", PI3, \"]\")"
   ]
  },
  {
   "cell_type": "markdown",
   "metadata": {},
   "source": [
    "## 1.12"
   ]
  },
  {
   "cell_type": "code",
   "execution_count": 385,
   "metadata": {},
   "outputs": [],
   "source": [
    "X, Y = np.meshgrid(gnp, interest)\n",
    "Z = beta0+beta1*X+beta2*Y"
   ]
  },
  {
   "cell_type": "code",
   "execution_count": 401,
   "metadata": {
    "scrolled": true
   },
   "outputs": [
    {
     "data": {
      "text/plain": [
       "<mpl_toolkits.mplot3d.art3d.Poly3DCollection at 0x1a1a585d30>"
      ]
     },
     "execution_count": 401,
     "metadata": {},
     "output_type": "execute_result"
    },
    {
     "data": {
      "image/png": "[encoded data removed]",
      "text/plain": [
       "<Figure size 432x288 with 1 Axes>"
      ]
     },
     "metadata": {
      "needs_background": "light"
     },
     "output_type": "display_data"
    }
   ],
   "source": [
    "fig = plt.figure()\n",
    "ax = plt.axes(projection='3d')\n",
    "ax.scatter(gnp, interest, invest, color = 'r')\n",
    "from matplotlib import cm\n",
    "ax.plot_surface(X,Y,Z,alpha = 0.4)\n",
    "ax.plot_surface(X,Y,Z+a1,color = 'g',alpha = 0.4)\n",
    "ax.plot_surface(X,Y,Z-a1,color = 'g', alpha = 0.4)\n",
    "#ax.plot3D(gnp, interest, np.dot(X, regression_coefficients.T), 'r'\n",
    "#ax.plot_surface(np.vstack((gnp.values,gnp.values)), np.stack((interest.values,interest.values)), np.stack((np.dot(X, regression_coefficients.T)-a1, np.dot(X, regression_coefficients.T)+a1))\n",
    "              #,color = \"g\", alpha = 0.6)\n",
    "#ax.plot_surface(np.vstack((gnp.values,gnp.values)), np.stack((interest.values,interest.values)), np.stack((np.dot(X, regression_coefficients.T)-b1, np.dot(X, regression_coefficients.T)+b1))\n",
    "             # ,color = \"y\", alpha = 0.4)"
   ]
  },
  {
   "cell_type": "markdown",
   "metadata": {},
   "source": [
    "## 1.13 "
   ]
  },
  {
   "cell_type": "code",
   "execution_count": 301,
   "metadata": {},
   "outputs": [],
   "source": [
    "reg1 = LinearRegression().fit(array.T, invest)\n",
    "beta0_1 = reg1.intercept_\n",
    "beta1_1 = reg1.coef_[0]\n",
    "beta2_1 = reg1.coef_[1]\n",
    "determination_coefficient2 = reg1.score(array.T, invest)\n",
    "invest2 = reg1.predict(np.array([[np.log(1000),10]]))"
   ]
  },
  {
   "cell_type": "code",
   "execution_count": 290,
   "metadata": {},
   "outputs": [
    {
     "data": {
      "text/plain": [
       "array([ 1.05124269, -0.00652888])"
      ]
     },
     "execution_count": 290,
     "metadata": {},
     "output_type": "execute_result"
    }
   ],
   "source": [
    "reg.coef_ #=[beta1,beta2]"
   ]
  },
  {
   "cell_type": "code",
   "execution_count": 291,
   "metadata": {},
   "outputs": [
    {
     "data": {
      "text/plain": [
       "-2.1804547259114004"
      ]
     },
     "execution_count": 291,
     "metadata": {},
     "output_type": "execute_result"
    }
   ],
   "source": [
    "reg.intercept_ #=beta0"
   ]
  },
  {
   "cell_type": "code",
   "execution_count": 292,
   "metadata": {},
   "outputs": [
    {
     "data": {
      "text/plain": [
       "0.9633108306726245"
      ]
     },
     "execution_count": 292,
     "metadata": {},
     "output_type": "execute_result"
    }
   ],
   "source": [
    "reg.score(array.T, invest) #=determination_coefficient1"
   ]
  },
  {
   "cell_type": "code",
   "execution_count": 297,
   "metadata": {},
   "outputs": [
    {
     "data": {
      "text/plain": [
       "array([5.01598373])"
      ]
     },
     "execution_count": 297,
     "metadata": {},
     "output_type": "execute_result"
    }
   ],
   "source": [
    "reg.predict(np.array([[np.log(1000),10]])) #=investment_log"
   ]
  },
  {
   "cell_type": "code",
   "execution_count": 302,
   "metadata": {},
   "outputs": [
    {
     "name": "stdout",
     "output_type": "stream",
     "text": [
      "beta0 is:  -2.1804547259114004 \n",
      " beta1 is:  1.0512426913196595 \n",
      " beta2 is:  -0.006528879406068252 \n",
      " the determination_coefficient is:  0.9633108306726245 \n",
      " the necessary In- vestment for the GNP value 1000 and Interest value 10 is:  [5.01598373]\n"
     ]
    }
   ],
   "source": [
    "print(\"beta0 is: \", beta0_1, \"\\n beta1 is: \", beta1_1,\"\\n beta2 is: \",beta2_1, \"\\n the determination_coefficient is: \", determination_coefficient2, \n",
    "      \"\\n the necessary In- vestment for the GNP value 1000 and Interest value 10 is: \" , invest2)"
   ]
  },
  {
   "cell_type": "markdown",
   "metadata": {},
   "source": [
    "we can see that those calculated ‘by hand’ (Steps 10 and 11) coincide with the ones obtained using existing implementation."
   ]
  }
 ],
 "metadata": {
  "kernelspec": {
   "display_name": "Python 3",
   "language": "python",
   "name": "python3"
  },
  "language_info": {
   "codemirror_mode": {
    "name": "ipython",
    "version": 3
   },
   "file_extension": ".py",
   "mimetype": "text/x-python",
   "name": "python",
   "nbconvert_exporter": "python",
   "pygments_lexer": "ipython3",
   "version": "3.7.0"
  }
 },
 "nbformat": 4,
 "nbformat_minor": 2
}
